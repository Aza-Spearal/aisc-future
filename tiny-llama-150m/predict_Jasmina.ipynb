{
 "cells": [
  {
   "cell_type": "code",
   "execution_count": 2,
   "metadata": {},
   "outputs": [],
   "source": [
    "import torch\n",
    "import torch.nn as nn\n",
    "import torch.optim as optim\n",
    "from torch.utils.data.dataset import random_split\n",
    "from torch.utils.data import DataLoader, TensorDataset\n",
    "import torch"
   ]
  },
  {
   "cell_type": "code",
   "execution_count": null,
   "metadata": {},
   "outputs": [],
   "source": [
    "class ImprovedTwoLayerNN(nn.Module):\n",
    "    def __init__(self, input_size, hidden_size, output_size):\n",
    "        super(ImprovedTwoLayerNN, self).__init__()\n",
    "        # Increase depth and capacity\n",
    "        self.layer1 = nn.Linear(input_size, hidden_size)\n",
    "        self.relu1 = nn.LeakyReLU()\n",
    "        self.batch_norm1 = nn.BatchNorm1d(hidden_size)\n",
    "        self.dropout1 = nn.Dropout(0.5)  # Adjust dropout rate as needed\n",
    "        \n",
    "        # Additional layer\n",
    "        self.layer2 = nn.Linear(hidden_size, hidden_size * 2)\n",
    "        self.relu2 = nn.LeakyReLU()\n",
    "        self.batch_norm2 = nn.BatchNorm1d(hidden_size * 2)\n",
    "        self.dropout2 = nn.Dropout(0.5)  # Adjust dropout rate as needed\n",
    "        \n",
    "        # Output layer\n",
    "        self.layer3 = nn.Linear(hidden_size * 2, output_size)\n",
    "    \n",
    "    def forward(self, x):\n",
    "        x = self.layer1(x)\n",
    "        x = self.relu1(x)\n",
    "        x = self.batch_norm1(x)\n",
    "        x = self.dropout1(x)\n",
    "        \n",
    "        x = self.layer2(x)\n",
    "        x = self.relu2(x)\n",
    "        x = self.batch_norm2(x)\n",
    "        x = self.dropout2(x)\n",
    "        \n",
    "        x = self.layer3(x)\n",
    "        return x\n",
    "    \n",
    "class TwoLayerNN(nn.Module):\n",
    "    def __init__(self, input_size, hidden_size,  output_size):\n",
    "        super(TwoLayerNN, self).__init__()\n",
    "        self.layer1 = nn.Linear(input_size, hidden_size)\n",
    "        self.relu = nn.ReLU()\n",
    "        self.layer2 = nn.Linear(hidden_size, output_size)\n",
    "    \n",
    "    def forward(self, x):\n",
    "        x = self.layer1(x)\n",
    "        x = self.relu(x)\n",
    "        x = self.layer2(x)\n",
    "        return x\n",
    "\n"
   ]
  },
  {
   "cell_type": "code",
   "execution_count": null,
   "metadata": {},
   "outputs": [],
   "source": [
    "def train(data_in, data_out, model, criterion, num_epochs, save=False, learning_rate=0.001):\n",
    "    \n",
    "    \n",
    "    # Create a complete dataset\n",
    "    full_dataset = TensorDataset(data_in.to(\"cuda\"), data_out.to(\"cuda\"))\n",
    "\n",
    "    # Define the sizes for your training and validation sets\n",
    "    total_size = len(full_dataset)\n",
    "    train_size = int(0.8 * total_size)\n",
    "    val_size = total_size - train_size\n",
    "\n",
    "    # Split the dataset\n",
    "    train_dataset, val_dataset = random_split(full_dataset, [train_size, val_size])\n",
    "\n",
    "    # Create DataLoaders for both training and validation sets\n",
    "    train_dataloader = DataLoader(train_dataset, batch_size=400, shuffle=True)\n",
    "    val_dataloader = DataLoader(val_dataset, batch_size=500)  # No need to shuffle the validation data\n",
    "\n",
    "\n",
    "    model.to(\"cuda\")\n",
    "     \n",
    "    optimizer = optim.Adam(model.parameters(), lr=learning_rate)\n",
    "\n",
    "\n",
    "\n",
    "    for epoch in range(num_epochs):\n",
    "        model.train()\n",
    "        running_loss = 0.0\n",
    "        for inputs, targets in train_dataloader:\n",
    "            inputs, targets = inputs.to(\"cuda\").float(), targets.to(\"cuda\").float()\n",
    "            \n",
    "            optimizer.zero_grad()\n",
    "            outputs = model(inputs)\n",
    "            loss = criterion(outputs, targets)\n",
    "            loss.backward()\n",
    "            optimizer.step()\n",
    "            \n",
    "         \n",
    "            running_loss += loss.item() * inputs.size(0)\n",
    "    \n",
    "        epoch_loss = running_loss / len(train_dataloader.dataset)\n",
    "        # Validation phase\n",
    "        model.eval()  # Set the model to evaluation mode\n",
    "        running_loss = 0.0\n",
    "        with torch.no_grad():  # No gradients need to be calculated\n",
    "            for inputs, targets in val_dataloader:\n",
    "                inputs, targets = inputs.to(\"cuda\").float(), targets.to(\"cuda\").float()\n",
    "                outputs = model(inputs)\n",
    "                \n",
    "                loss = criterion(outputs, targets)\n",
    "                running_loss += loss.item() * inputs.size(0)\n",
    "        val_loss = running_loss / len(val_dataloader.dataset)\n",
    "\n",
    "        print(f'Epoch [{epoch+1}/{num_epochs}], Training Loss: {epoch_loss:.8f}, Validation Loss: {val_loss:.8f}')\n",
    "        \n",
    "    if(save):\n",
    "        # Ensure the model is in evaluation mode\n",
    "        model.eval()\n",
    "\n",
    "        predictions = []\n",
    "        with torch.no_grad():  # No gradients needed for inference\n",
    "            for inputs, _ in full_dataset:  # Assuming your dataset returns inputs and targets\n",
    "                inputs = inputs.to('cuda').float().unsqueeze(0)\n",
    "                \n",
    "                # Get the model output\n",
    "                outputs = model(inputs)\n",
    "                \n",
    "\n",
    "                predictions.append(outputs.cpu())\n",
    "\n",
    "        # Concatenate all batches of predictions\n",
    "        all_predictions = torch.stack(predictions, dim=0)\n",
    "\n",
    "        # Save the tensor to a file\n",
    "        torch.save(all_predictions, 'model_predictions.pth')\n",
    "\n"
   ]
  },
  {
   "cell_type": "code",
   "execution_count": 72,
   "metadata": {},
   "outputs": [
    {
     "name": "stdout",
     "output_type": "stream",
     "text": [
      "torch.Size([25, 19, 768])\n"
     ]
    }
   ],
   "source": [
    "id = \"1\"\n",
    "\n",
    "loaded_activations  = torch.load(f'activations-{id}.pth')\n",
    "loaded_embeddings = torch.load(f\"embeddings-{id}.pth\")\n",
    "loaded_residual_stream = torch.load(f\"residual_stream-{id}.pth\")\n",
    "#loaded_rebased_embeddings = torch.load(f\"rebased_embeddings-{id}.pth\")\n",
    "loaded_one_hot = torch.load(f\"one-hot-{id}.pth\")"
   ]
  },
  {
   "cell_type": "code",
   "execution_count": 93,
   "metadata": {},
   "outputs": [
    {
     "data": {
      "text/plain": [
       "torch.Size([195, 768])"
      ]
     },
     "execution_count": 93,
     "metadata": {},
     "output_type": "execute_result"
    }
   ],
   "source": [
    "data_in.shape"
   ]
  },
  {
   "cell_type": "code",
   "execution_count": 101,
   "metadata": {},
   "outputs": [
    {
     "name": "stdout",
     "output_type": "stream",
     "text": [
      "Epoch [1/20], Training Loss: 0.06029065, Validation Loss: 3.91040969\n",
      "Epoch [2/20], Training Loss: 3.95423579, Validation Loss: 0.31829616\n",
      "Epoch [3/20], Training Loss: 0.30948395, Validation Loss: 0.21837139\n",
      "Epoch [4/20], Training Loss: 0.22504313, Validation Loss: 0.45714369\n",
      "Epoch [5/20], Training Loss: 0.47738150, Validation Loss: 0.34621349\n",
      "Epoch [6/20], Training Loss: 0.36371037, Validation Loss: 0.19990803\n",
      "Epoch [7/20], Training Loss: 0.21037224, Validation Loss: 0.11369795\n",
      "Epoch [8/20], Training Loss: 0.11905828, Validation Loss: 0.07359096\n",
      "Epoch [9/20], Training Loss: 0.07595395, Validation Loss: 0.05665905\n",
      "Epoch [10/20], Training Loss: 0.05709793, Validation Loss: 0.04952656\n",
      "Epoch [11/20], Training Loss: 0.04878549, Validation Loss: 0.04680055\n",
      "Epoch [12/20], Training Loss: 0.04523652, Validation Loss: 0.04648336\n",
      "Epoch [13/20], Training Loss: 0.04422811, Validation Loss: 0.04743056\n",
      "Epoch [14/20], Training Loss: 0.04458777, Validation Loss: 0.04831565\n",
      "Epoch [15/20], Training Loss: 0.04508832, Validation Loss: 0.04846195\n",
      "Epoch [16/20], Training Loss: 0.04507180, Validation Loss: 0.04794713\n",
      "Epoch [17/20], Training Loss: 0.04452840, Validation Loss: 0.04714184\n",
      "Epoch [18/20], Training Loss: 0.04379875, Validation Loss: 0.04635285\n",
      "Epoch [19/20], Training Loss: 0.04314236, Validation Loss: 0.04571503\n",
      "Epoch [20/20], Training Loss: 0.04263200, Validation Loss: 0.04522632\n"
     ]
    }
   ],
   "source": [
    "# consts\n",
    "attention = 2\n",
    "ff = 3\n",
    "\n",
    "layer = 10\n",
    "\n",
    "\n",
    "residual_stream =  [i[layer, -1, :] for i in loaded_residual_stream]\n",
    "\n",
    "residual_stream = torch.stack(residual_stream)\n",
    "\n",
    "\n",
    "\n",
    "\n",
    "data_in = residual_stream\n",
    "data_out = loaded_one_hot.T\n",
    "\n",
    "input_size = data_in.shape[1]\n",
    "output_size = data_out.shape[1]\n",
    "hidden_size = 8000\n",
    "\n",
    "criterion = nn.MSELoss() \n",
    "\n",
    "\n",
    "model = TwoLayerNN(input_size, hidden_size, output_size)\n",
    "train(data_in, data_out, model, criterion, num_epochs=20)\n",
    "    "
   ]
  }
 ],
 "metadata": {
  "kernelspec": {
   "display_name": "mistral2",
   "language": "python",
   "name": "python3"
  },
  "language_info": {
   "codemirror_mode": {
    "name": "ipython",
    "version": 3
   },
   "file_extension": ".py",
   "mimetype": "text/x-python",
   "name": "python",
   "nbconvert_exporter": "python",
   "pygments_lexer": "ipython3",
   "version": "3.9.0"
  }
 },
 "nbformat": 4,
 "nbformat_minor": 2
}
