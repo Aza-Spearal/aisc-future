{
 "cells": [
  {
   "cell_type": "code",
   "execution_count": 2,
   "metadata": {},
   "outputs": [],
   "source": [
    "import torch\n",
    "import torch.nn as nn\n",
    "import torch.optim as optim\n",
    "from torch.utils.data.dataset import random_split\n",
    "from torch.utils.data import DataLoader, TensorDataset\n",
    "import torch\n",
    "import torch.nn.functional as F\n",
    "from taker import Model\n",
    "id = 1\n"
   ]
  },
  {
   "cell_type": "markdown",
   "metadata": {},
   "source": [
    "Load the texts"
   ]
  },
  {
   "cell_type": "code",
   "execution_count": 3,
   "metadata": {},
   "outputs": [],
   "source": [
    "# Load texts\n",
    "id = 1\n",
    "loaded_texts  = torch.load(f'generated_texts-{id}.pth')\n",
    "prompts = [i[0] for i in loaded_texts]\n",
    "completions = [i[1] for i in loaded_texts]\n",
    "full_texts = [i[0] + i[1] for i in loaded_texts]\n",
    "\n",
    "# prompt len is roughly 150 characters\n"
   ]
  },
  {
   "cell_type": "markdown",
   "metadata": {},
   "source": [
    "Load the model"
   ]
  },
  {
   "cell_type": "code",
   "execution_count": 5,
   "metadata": {},
   "outputs": [
    {
     "data": {
      "application/vnd.jupyter.widget-view+json": {
       "model_id": "7404e030f0ce4d59bdbb7927ff73745a",
       "version_major": 2,
       "version_minor": 0
      },
      "text/plain": [
       "Loading checkpoint shards:   0%|          | 0/2 [00:00<?, ?it/s]"
      ]
     },
     "metadata": {},
     "output_type": "display_data"
    },
    {
     "name": "stdout",
     "output_type": "stream",
     "text": [
      "- Loaded mistralai/Mistral-7B-v0.1\n",
      " - Registered 32 Attention Layers\n"
     ]
    }
   ],
   "source": [
    "# Generate activations if there are none\n",
    "m = Model(\"mistralai/Mistral-7B-v0.1\", dtype=\"int4\")\n",
    "m.to(\"cuda\")\n",
    "m.do_activations[\"mlp_pre_out\"] = False\n",
    "m.do_activations[\"attn_pre_out\"] = False\n"
   ]
  },
  {
   "cell_type": "markdown",
   "metadata": {},
   "source": [
    "Get activations.\n",
    "- Get the output of each MLP layer and save them\n",
    "- Only save every \"layers_to_skip\"-th layer\n",
    "- I.e: for layers_to_skip = 15, save layers 0, 15, and 30"
   ]
  },
  {
   "cell_type": "code",
   "execution_count": null,
   "metadata": {},
   "outputs": [],
   "source": [
    "\n",
    "file_name = f\"/mnt/vol_b/text_activations-{id}.pth\"\n",
    "\n",
    "a = 0\n",
    "layers_to_skip = 15\n",
    "\n",
    "activations = []\n",
    "# Open the file once and append data in each iteration\n",
    "with torch.no_grad():\n",
    "    for text in [i for i in full_texts[0:300]]:\n",
    "        print(a)\n",
    "\n",
    "        act = m.get_text_activations(text=text)\n",
    "        atten_out = activation[1]\n",
    "        ff_out = activation[2]\n",
    "\n",
    "        # Take every 15th layer starting from the first one\n",
    "        activations.append(ff_out[0::layers_to_skip, :, :].to(\"cpu\"))\n",
    "\n",
    "        # Append the data to file\n",
    "        # if (a % 10 == 0):\n",
    "        #     torch.save( activations, f\"file_name-{a}\" )\n",
    "        #     activations = []\n",
    "        a = a + 1\n"
   ]
  },
  {
   "cell_type": "code",
   "execution_count": 35,
   "metadata": {},
   "outputs": [],
   "source": [
    "torch.save(activations, f\"/mnt/vol_b/text_activations-{id}.pth\")"
   ]
  },
  {
   "cell_type": "code",
   "execution_count": null,
   "metadata": {},
   "outputs": [],
   "source": [
    "# Inspect text\n",
    "\n",
    "\n",
    "a = 0\n",
    "for i in loaded_texts:\n",
    "    print(\"TEXTS: \", a )\n",
    "    print(i[0] + \"//\" +  i[1])\n",
    "\n",
    "    a = a + 1\n"
   ]
  },
  {
   "cell_type": "markdown",
   "metadata": {},
   "source": [
    "Define predictor model\n",
    "- it is a simple single-layer transformer model\n",
    "- I think it likely has ATTN + MLP but unsure \n",
    "- Output from running the model is the final activation from the final token \n",
    "- I.e: [n_texts, n_tokens, d_model] -> [n_texts, -1, d_model]"
   ]
  },
  {
   "cell_type": "code",
   "execution_count": 75,
   "metadata": {},
   "outputs": [],
   "source": [
    "# Takes in batch, seq_len, features\n",
    "class CustomTransformerModel(nn.Module):\n",
    "    def __init__(self, input_size, output_size):\n",
    "        super(CustomTransformerModel, self).__init__()\n",
    "        self.embedding = nn.Linear(input_size, 4096) # Example embedding size\n",
    "        self.transformer_block = nn.TransformerEncoderLayer(d_model=4096, nhead=8)\n",
    "        self.output_linear = nn.Linear(4096, output_size)\n",
    "        self.sigmoid = nn.Sigmoid()\n",
    "        self.output_size = output_size\n",
    "\n",
    "    def forward(self, x):\n",
    "        x = self.embedding(x)\n",
    "        x = x.permute(1, 0, 2) # Transformer expects [seq_len, batch, features]\n",
    "        x = self.transformer_block(x)\n",
    "        x = x.permute(1, 0, 2) # Revert permutation\n",
    "        x = self.output_linear(x)\n",
    "        x = x[:, -1, :] # Output is the final token\n",
    "        return x\n",
    "\n",
    "    # loss is ( x - y.mean() )**2\n"
   ]
  },
  {
   "cell_type": "markdown",
   "metadata": {},
   "source": [
    "Define a method to train"
   ]
  },
  {
   "cell_type": "code",
   "execution_count": 82,
   "metadata": {},
   "outputs": [],
   "source": [
    "# train\n",
    "\n",
    "\n",
    "def train(data_in, data_out, model, criterion, num_epochs, save=False, learning_rate=0.001):\n",
    "\n",
    "\n",
    "    # Create a complete dataset\n",
    "    full_dataset = TensorDataset(data_in.to(\"cuda\").float(), data_out.to(\"cuda\").float())\n",
    "\n",
    "    # Define the sizes for your training and validation sets\n",
    "    total_size = len(full_dataset)\n",
    "    train_size = int(0.8 * total_size)\n",
    "    val_size = total_size - train_size\n",
    "\n",
    "    # Split the dataset\n",
    "    train_dataset, val_dataset = random_split(full_dataset, [train_size, val_size])\n",
    "\n",
    "    # Create DataLoaders for both training and validation sets\n",
    "    train_dataloader = DataLoader(train_dataset, batch_size=400, shuffle=True)\n",
    "    val_dataloader = DataLoader(val_dataset, batch_size=500)  # No need to shuffle the validation data\n",
    "\n",
    "\n",
    "    model.to(\"cuda\")\n",
    "\n",
    "    optimizer = optim.Adam(model.parameters(), lr=learning_rate)\n",
    "\n",
    "\n",
    "\n",
    "    for epoch in range(num_epochs):\n",
    "        # Training phase\n",
    "        model.train()\n",
    "        running_loss = 0.0\n",
    "        for inputs, targets in train_dataloader:\n",
    "            inputs, targets = inputs.to(\"cuda\"), targets.to(\"cuda\")\n",
    "\n",
    "            optimizer.zero_grad()\n",
    "            outputs = model(inputs)\n",
    "            loss = criterion(outputs, targets)\n",
    "            loss.backward()\n",
    "            optimizer.step()\n",
    "\n",
    "            running_loss += loss.item() * inputs.size(0)\n",
    "\n",
    "        epoch_loss = running_loss / len(train_dataloader.dataset)\n",
    "        # Validation phase\n",
    "        model.eval()  # Set the model to evaluation mode\n",
    "        running_loss = 0.0\n",
    "        with torch.no_grad():  # No gradients need to be calculated\n",
    "            for inputs, targets in val_dataloader:\n",
    "                inputs, targets = inputs.to(\"cuda\").float(), targets.to(\"cuda\").float()\n",
    "                outputs = model(inputs)\n",
    "\n",
    "                loss = criterion(outputs, targets)\n",
    "                running_loss += loss.item() * inputs.size(0)\n",
    "        val_loss = running_loss / len(val_dataloader.dataset)\n",
    "\n",
    "        print(f'Epoch [{epoch+1}/{num_epochs}], Training Loss: {epoch_loss:.8f}, Validation Loss: {val_loss:.8f}')\n",
    "\n",
    "    if(save):\n",
    "        # Ensure the model is in evaluation mode\n",
    "        model.eval()\n",
    "\n",
    "        predictions = []\n",
    "        with torch.no_grad():  # No gradients needed for inference\n",
    "            for inputs, _ in full_dataset:  # Assuming your dataset returns inputs and targets\n",
    "                inputs = inputs.to('cuda').float().unsqueeze(0)\n",
    "\n",
    "                # Get the model output\n",
    "                outputs = model(inputs)\n",
    "\n",
    "\n",
    "                predictions.append(outputs.cpu())\n",
    "\n",
    "        # Concatenate all batches of predictions\n",
    "        all_predictions = torch.stack(predictions, dim=0)\n",
    "\n",
    "        # Save the tensor to a file\n",
    "        torch.save(all_predictions, 'model_predictions.pth')\n",
    "\n"
   ]
  },
  {
   "cell_type": "code",
   "execution_count": null,
   "metadata": {},
   "outputs": [],
   "source": [
    "# layers are [0, ..., 31] for ff and attn\n",
    "# we only save 15 layers so need to map: {0<->0, 15<->1, 30<->2}\n",
    "layer_index = 30 # 0 / 15 / 30\n",
    "layer_index_mapped = (layer_index % layers_to_skip)\n",
    "\n",
    "# The prompt ends around token 30-40\n",
    "\n",
    "# input is tokens 0-100\n",
    "train_start = 0\n",
    "train_end = 100\n",
    "\n",
    "# output is mean of the tokens 100-120\n",
    "average_start = 100\n",
    "average_end = 120\n",
    "\n",
    "# - activations is list of affective shape [text, layer, token, d_model]\n",
    "# - act has shape [layer, token, d_model]\n",
    "# we combine this to get the data for training:\n",
    "# data_in.shape  == [n_texts, n_tokens=100, d_model] (100 \"token\" position inputs)\n",
    "# data_out.shape == [n_texts, d_model] (1 \"token\" position output)\n",
    "data_in  = torch.stack([act[layer_index_mapped, train_start:train_end, :] for act in activations])\n",
    "data_out = torch.mean(\n",
    "    torch.stack([\n",
    "        act[layer_index_mapped, average_start:average_end, :] for act in activations\n",
    "    ]),\n",
    "    dim=1\n",
    ")\n",
    "\n",
    "# Define the loss and predictor model we will be using\n",
    "criterion = nn.MSELoss()\n",
    "model = CustomTransformerModel(input_size=4096, output_size=4096).to(\"cuda\")"
   ]
  },
  {
   "cell_type": "code",
   "execution_count": 88,
   "metadata": {},
   "outputs": [
    {
     "name": "stdout",
     "output_type": "stream",
     "text": [
      "Epoch [1/30], Training Loss: 0.32469651, Validation Loss: 0.11559182\n",
      "Epoch [2/30], Training Loss: 0.12473597, Validation Loss: 0.06328046\n",
      "Epoch [3/30], Training Loss: 0.07575580, Validation Loss: 0.05229685\n",
      "Epoch [4/30], Training Loss: 0.06461286, Validation Loss: 0.04777841\n",
      "Epoch [5/30], Training Loss: 0.05988586, Validation Loss: 0.04125999\n",
      "Epoch [6/30], Training Loss: 0.05334065, Validation Loss: 0.03238321\n",
      "Epoch [7/30], Training Loss: 0.04462754, Validation Loss: 0.02351909\n",
      "Epoch [8/30], Training Loss: 0.03600687, Validation Loss: 0.01712981\n",
      "Epoch [9/30], Training Loss: 0.02973778, Validation Loss: 0.01423174\n",
      "Epoch [10/30], Training Loss: 0.02686051, Validation Loss: 0.01369918\n",
      "Epoch [11/30], Training Loss: 0.02615321, Validation Loss: 0.01377128\n",
      "Epoch [12/30], Training Loss: 0.02605203, Validation Loss: 0.01332568\n",
      "Epoch [13/30], Training Loss: 0.02543598, Validation Loss: 0.01211494\n",
      "Epoch [14/30], Training Loss: 0.02401829, Validation Loss: 0.01042738\n",
      "Epoch [15/30], Training Loss: 0.02209391, Validation Loss: 0.00876626\n",
      "Epoch [16/30], Training Loss: 0.02007784, Validation Loss: 0.00755347\n",
      "Epoch [17/30], Training Loss: 0.01861230, Validation Loss: 0.00691862\n",
      "Epoch [18/30], Training Loss: 0.01783424, Validation Loss: 0.00666645\n",
      "Epoch [19/30], Training Loss: 0.01728931, Validation Loss: 0.00651856\n",
      "Epoch [20/30], Training Loss: 0.01679953, Validation Loss: 0.00628678\n",
      "Epoch [21/30], Training Loss: 0.01637316, Validation Loss: 0.00594946\n",
      "Epoch [22/30], Training Loss: 0.01558450, Validation Loss: 0.00552121\n",
      "Epoch [23/30], Training Loss: 0.01477547, Validation Loss: 0.00503763\n",
      "Epoch [24/30], Training Loss: 0.01407462, Validation Loss: 0.00458005\n",
      "Epoch [25/30], Training Loss: 0.01321714, Validation Loss: 0.00424142\n",
      "Epoch [26/30], Training Loss: 0.01264630, Validation Loss: 0.00407690\n",
      "Epoch [27/30], Training Loss: 0.01196529, Validation Loss: 0.00404679\n",
      "Epoch [28/30], Training Loss: 0.01139837, Validation Loss: 0.00405260\n",
      "Epoch [29/30], Training Loss: 0.01103472, Validation Loss: 0.00404368\n",
      "Epoch [30/30], Training Loss: 0.01050264, Validation Loss: 0.00399120\n"
     ]
    }
   ],
   "source": [
    "\n",
    "train(data_in, data_out, model, criterion, num_epochs=30, save=True, learning_rate=0.0001)"
   ]
  },
  {
   "cell_type": "code",
   "execution_count": 90,
   "metadata": {},
   "outputs": [],
   "source": [
    "res = torch.load(\"./model_predictions.pth\")"
   ]
  }
 ],
 "metadata": {
  "kernelspec": {
   "display_name": "mistral2",
   "language": "python",
   "name": "python3"
  },
  "language_info": {
   "codemirror_mode": {
    "name": "ipython",
    "version": 3
   },
   "file_extension": ".py",
   "mimetype": "text/x-python",
   "name": "python",
   "nbconvert_exporter": "python",
   "pygments_lexer": "ipython3",
   "version": "3.9.16"
  }
 },
 "nbformat": 4,
 "nbformat_minor": 2
}
